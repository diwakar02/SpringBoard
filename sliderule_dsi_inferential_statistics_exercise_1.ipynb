{
 "cells": [
  {
   "cell_type": "markdown",
   "metadata": {},
   "source": [
    "## What is the true normal human body temperature? \n",
    "\n",
    "#### Background\n",
    "\n",
    "The mean normal body temperature was held to be 37$^{\\circ}$C or 98.6$^{\\circ}$F for more than 120 years since it was first conceptualized and reported by Carl Wunderlich in a famous 1868 book. In 1992, this value was revised to 36.8$^{\\circ}$C or 98.2$^{\\circ}$F. \n",
    "\n",
    "#### Exercise\n",
    "In this exercise, you will analyze a dataset of human body temperatures and employ the concepts of hypothesis testing, confidence intervals, and statistical significance.\n",
    "\n",
    "Answer the following questions **in this notebook below and submit to your Github account**. \n",
    "\n",
    "1.  Is the distribution of body temperatures normal? \n",
    "    - Remember that this is a condition for the CLT, and hence the statistical tests we are using, to apply. \n",
    "2.  Is the true population mean really 98.6 degrees F?\n",
    "    - Bring out the one sample hypothesis test! In this situation, is it approriate to apply a z-test or a t-test? How will the result be different?\n",
    "3.  At what temperature should we consider someone's temperature to be \"abnormal\"?\n",
    "    - Start by computing the margin of error and confidence interval.\n",
    "4.  Is there a significant difference between males and females in normal temperature?\n",
    "    - Set up and solve for a two sample hypothesis testing.\n",
    "\n",
    "You can include written notes in notebook cells using Markdown: \n",
    "   - In the control panel at the top, choose Cell > Cell Type > Markdown\n",
    "   - Markdown syntax: http://nestacms.com/docs/creating-content/markdown-cheat-sheet\n",
    "\n",
    "#### Resources\n",
    "\n",
    "+ Information and data sources: http://www.amstat.org/publications/jse/datasets/normtemp.txt, http://www.amstat.org/publications/jse/jse_data_archive.htm\n",
    "+ Markdown syntax: http://nestacms.com/docs/creating-content/markdown-cheat-sheet\n",
    "\n",
    "****"
   ]
  },
  {
   "cell_type": "code",
   "execution_count": 20,
   "metadata": {
    "collapsed": false
   },
   "outputs": [],
   "source": [
    "import pandas as pd\n",
    "from scipy import stats as stats\n",
    "import numpy as np\n",
    "\n",
    "%matplotlib inline"
   ]
  },
  {
   "cell_type": "code",
   "execution_count": 3,
   "metadata": {
    "collapsed": false
   },
   "outputs": [],
   "source": [
    "df = pd.read_csv('data/human_body_temperature.csv')"
   ]
  },
  {
   "cell_type": "code",
   "execution_count": 6,
   "metadata": {
    "collapsed": false
   },
   "outputs": [
    {
     "data": {
      "text/plain": [
       "130"
      ]
     },
     "execution_count": 6,
     "metadata": {},
     "output_type": "execute_result"
    }
   ],
   "source": [
    "n = len(df)"
   ]
  },
  {
   "cell_type": "code",
   "execution_count": 35,
   "metadata": {
    "collapsed": false
   },
   "outputs": [
    {
     "name": "stdout",
     "output_type": "stream",
     "text": [
      "p values is 0.258747986349\n",
      "Base Assumtion is true and the distribution is normal since sample p value 0.258747986349  is greater than expected  0.005\n"
     ]
    }
   ],
   "source": [
    "#Solution 1 - Checking if the distribution is normal or not?\n",
    "#googled for various hints and found one method which suggests that scipy has a normality test method\n",
    "# Assumption Hypothesis H0 - The distribution is normal\n",
    "\n",
    "#setting the base p-value\n",
    "pvalue = 0.005\n",
    "for val in stats.mstats.normaltest(df.temperature)[1:]:\n",
    "    print (\"p values is\",  val)\n",
    "    if val > pvalue:\n",
    "        print (\"Base Assumtion is true and the distribution is normal since sample p value\", val, \" is greater than expected \", pvalue)\n",
    "    else:\n",
    "        print (\"Base Hypothesis fails, thus we can conclude that the distribution is not normal\")\n",
    "    "
   ]
  },
  {
   "cell_type": "code",
   "execution_count": 10,
   "metadata": {
    "collapsed": false
   },
   "outputs": [],
   "source": [
    "#SOLUTION 2"
   ]
  },
  {
   "cell_type": "code",
   "execution_count": 42,
   "metadata": {
    "collapsed": false
   },
   "outputs": [
    {
     "data": {
      "text/plain": [
       "0.064304416837891024"
      ]
     },
     "execution_count": 42,
     "metadata": {},
     "output_type": "execute_result"
    }
   ],
   "source": [
    "#Since the sample number is greater than 30, we will use z-stats\n",
    "#Assumption H0 - Population mean is 98.6F\n",
    "#H1 - Population mean in not 98.6F\n",
    "\n",
    "#setting and getting values to be used for statistical purposes\n",
    "pvalue = 0.005\n",
    "n = len(df)\n",
    "std_dev = df.temperature.std()\n",
    "mean = df.temperature.mean()\n",
    "\n",
    "## Since we know that in order for H0 to be TRUE, the sample and population mean should have to be same\n",
    "mean_population = mean_sample = 98.6 #getting values form H0 defined in HEADER\n",
    " \n",
    "#Also getting the std_dev for this sample\n",
    "sample_dev = std_dev/np.sqrt(n)\n",
    "    \n",
    "### Till Here I am ok as this is what is given in Khan Academy Notes but after getting these values, how to calculate\n",
    "# pvalue, if pvalue is there, than we can know whether H0 is TRUE or not\n",
    "\n"
   ]
  },
  {
   "cell_type": "code",
   "execution_count": 50,
   "metadata": {
    "collapsed": false
   },
   "outputs": [
    {
     "name": "stdout",
     "output_type": "stream",
     "text": [
      "Confident interval is  (98.123196428181629, 98.375265110279869)\n",
      "Margin of Error is - 10.5771353265 %\n"
     ]
    }
   ],
   "source": [
    "#SOLUTION 3\n",
    "#since we are keeping p-value at 5%, we can take a 95% confidence\n",
    "conf_interval = stats.norm.interval(0.95, mean, sample_dev) #mean = df.temperature.mean()\n",
    "#, sample_dev = df.temperature.std()/np.sqrt(n)\n",
    "print (\"Confident interval is \", conf_interval)\n",
    "#Not sure after this if this range should be (conf_interval - mean) to (conf_interval +mean ) \n",
    "#and whether mean should be 98.6 or 98.2\n",
    "\n",
    "#Margin of Error\n",
    "#from Google and stack Overflow it is equal to z score (conf_interval) times std_dev\n",
    "z_score = stats.norm.ppf(.95)\n",
    "\n",
    "#margin of error\n",
    "margin_error = z_score * sample_dev\n",
    "print (\"Margin of Error is -\", margin_error * 100, \"%\")\n",
    "\n",
    "#############\n",
    "# can you explain this  http://stackoverflow.com/questions/20864847/probability-to-z-score-and-vice-versa-in-python\n",
    "#############\n",
    "\n",
    "\n"
   ]
  },
  {
   "cell_type": "code",
   "execution_count": 52,
   "metadata": {
    "collapsed": false
   },
   "outputs": [],
   "source": [
    "#Solution 4\n",
    "#H0 = Assume there is no difference between male and female temps \n",
    "#H1 = Difference (contradicting H0)\n",
    "pvalue= 0.005 #5%\n",
    "df_male = df[df.gender == 'M']\n",
    "df_female = df[df.gender == 'F']\n",
    "num_female = len(df_female) #female sample size\n",
    "num_male = len(df_male) #male sample size\n",
    "std_dev_male = df_male.temperature.std()\n",
    "std_dev_female = df_female.temperature.std()\n",
    "mean_male = df_male.temperature.mean()\n",
    "mean_female = df_female.temperature.mean()\n",
    "\n",
    "#mean of differences\n",
    "mean_diff = mean_male - mean_female\n",
    "\n",
    "#std dev of difference\n",
    "std_diff = np.sqrt(((std_dev_male ** 2)/ num_male) - ((std_dev_female ** 2)/num_female))\n",
    "\n",
    "##QUERY how to get the pvalue from this point onwards\n",
    "\n"
   ]
  },
  {
   "cell_type": "code",
   "execution_count": null,
   "metadata": {
    "collapsed": true
   },
   "outputs": [],
   "source": []
  }
 ],
 "metadata": {
  "kernelspec": {
   "display_name": "Python 3",
   "language": "python",
   "name": "python3"
  },
  "language_info": {
   "codemirror_mode": {
    "name": "ipython",
    "version": 3
   },
   "file_extension": ".py",
   "mimetype": "text/x-python",
   "name": "python",
   "nbconvert_exporter": "python",
   "pygments_lexer": "ipython3",
   "version": "3.5.1"
  }
 },
 "nbformat": 4,
 "nbformat_minor": 0
}
